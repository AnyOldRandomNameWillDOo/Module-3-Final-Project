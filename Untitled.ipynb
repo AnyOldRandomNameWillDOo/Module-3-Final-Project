{
 "cells": [
  {
   "cell_type": "code",
   "execution_count": 1,
   "metadata": {
    "ExecuteTime": {
     "end_time": "2020-10-07T05:44:50.627070Z",
     "start_time": "2020-10-07T05:44:50.573070Z"
    }
   },
   "outputs": [
    {
     "ename": "ModuleNotFoundError",
     "evalue": "No module named 'tune_sklearn'",
     "output_type": "error",
     "traceback": [
      "\u001b[1;31m---------------------------------------------------------------------------\u001b[0m",
      "\u001b[1;31mModuleNotFoundError\u001b[0m                       Traceback (most recent call last)",
      "\u001b[1;32m<ipython-input-1-c70cb68ac57f>\u001b[0m in \u001b[0;36m<module>\u001b[1;34m\u001b[0m\n\u001b[1;32m----> 1\u001b[1;33m \u001b[1;32mfrom\u001b[0m \u001b[0mtune_sklearn\u001b[0m \u001b[1;32mimport\u001b[0m \u001b[0mTuneGridSearchCV\u001b[0m\u001b[1;33m\u001b[0m\u001b[1;33m\u001b[0m\u001b[0m\n\u001b[0m",
      "\u001b[1;31mModuleNotFoundError\u001b[0m: No module named 'tune_sklearn'"
     ]
    }
   ],
   "source": [
    "from tune_sklearn import TuneGridSearchCV\n"
   ]
  },
  {
   "cell_type": "code",
   "execution_count": 2,
   "metadata": {
    "ExecuteTime": {
     "end_time": "2020-10-07T05:45:09.609344Z",
     "start_time": "2020-10-07T05:45:07.225992Z"
    }
   },
   "outputs": [
    {
     "name": "stdout",
     "output_type": "stream",
     "text": [
      "Collecting tune-sklearn\n",
      "  Using cached https://files.pythonhosted.org/packages/4f/aa/4ada108a9528bc82f644a6c467e49d67c26a11103c3ecc9b0d337bb218c3/tune_sklearn-0.1.0-py3-none-any.whl\n",
      "Collecting ray[tune]\n",
      "  Using cached https://files.pythonhosted.org/packages/d0/fa/3b9bca29cb9191abd5f75412c342119874e7ea359211940e91e7070b293a/ray-1.0.0-cp36-cp36m-win_amd64.whl\n",
      "Requirement already satisfied: scikit-learn in c:\\users\\drudi\\anaconda3\\envs\\learn-env\\lib\\site-packages (from tune-sklearn) (0.23.2)\n",
      "Requirement already satisfied: numpy>=1.16 in c:\\users\\drudi\\anaconda3\\envs\\learn-env\\lib\\site-packages (from tune-sklearn) (1.19.1)\n",
      "Note: you may need to restart the kernel to use updated packages.\n"
     ]
    },
    {
     "name": "stderr",
     "output_type": "stream",
     "text": [
      "WARNING: No metadata found in c:\\users\\drudi\\anaconda3\\envs\\learn-env\\lib\\site-packages\n",
      "ERROR: Could not install packages due to an EnvironmentError: [Errno 2] No such file or directory: 'c:\\\\users\\\\drudi\\\\anaconda3\\\\envs\\\\learn-env\\\\lib\\\\site-packages\\\\numpy-1.19.1.dist-info\\\\METADATA'\n",
      "\n"
     ]
    }
   ],
   "source": [
    "pip install tune-sklearn \"ray[tune]\""
   ]
  },
  {
   "cell_type": "code",
   "execution_count": 3,
   "metadata": {
    "ExecuteTime": {
     "end_time": "2020-10-07T05:47:39.990101Z",
     "start_time": "2020-10-07T05:47:31.346980Z"
    }
   },
   "outputs": [
    {
     "name": "stdout",
     "output_type": "stream",
     "text": [
      "Collecting git+https://github.com/ray-project/tune-sklearn.git\n",
      "  Cloning https://github.com/ray-project/tune-sklearn.git to c:\\users\\drudi\\appdata\\local\\temp\\pip-req-build-9fnfdcwz\n",
      "Requirement already satisfied, skipping upgrade: scikit-learn in c:\\users\\drudi\\anaconda3\\envs\\learn-env\\lib\\site-packages (from tune-sklearn==0.0.8) (0.23.2)\n",
      "Requirement already satisfied, skipping upgrade: scipy in c:\\users\\drudi\\anaconda3\\envs\\learn-env\\lib\\site-packages (from tune-sklearn==0.0.8) (1.3.1)\n",
      "Collecting ray (from tune-sklearn==0.0.8)\n",
      "  Using cached https://files.pythonhosted.org/packages/d0/fa/3b9bca29cb9191abd5f75412c342119874e7ea359211940e91e7070b293a/ray-1.0.0-cp36-cp36m-win_amd64.whl\n",
      "Requirement already satisfied, skipping upgrade: numpy>=1.16 in c:\\users\\drudi\\anaconda3\\envs\\learn-env\\lib\\site-packages (from tune-sklearn==0.0.8) (1.19.1)\n",
      "Note: you may need to restart the kernel to use updated packages.\n"
     ]
    },
    {
     "name": "stderr",
     "output_type": "stream",
     "text": [
      "  Running command git clone -q https://github.com/ray-project/tune-sklearn.git 'C:\\Users\\drudi\\AppData\\Local\\Temp\\pip-req-build-9fnfdcwz'\n",
      "WARNING: No metadata found in c:\\users\\drudi\\anaconda3\\envs\\learn-env\\lib\\site-packages\n",
      "ERROR: Could not install packages due to an EnvironmentError: [Errno 2] No such file or directory: 'c:\\\\users\\\\drudi\\\\anaconda3\\\\envs\\\\learn-env\\\\lib\\\\site-packages\\\\numpy-1.19.1.dist-info\\\\METADATA'\n",
      "\n"
     ]
    }
   ],
   "source": [
    "pip install -U git+https://github.com/ray-project/tune-sklearn.git && pip install 'ray[tune]'"
   ]
  },
  {
   "cell_type": "code",
   "execution_count": 4,
   "metadata": {
    "ExecuteTime": {
     "end_time": "2020-10-07T05:48:18.893872Z",
     "start_time": "2020-10-07T05:48:17.194658Z"
    }
   },
   "outputs": [
    {
     "name": "stdout",
     "output_type": "stream",
     "text": [
      "Collecting scikit-optimize\n",
      "  Downloading https://files.pythonhosted.org/packages/8b/03/be33e89f55866065a02e515c5b319304a801a9f1027a9b311a9b1d1f8dc7/scikit_optimize-0.8.1-py2.py3-none-any.whl (101kB)\n",
      "Requirement already satisfied: joblib>=0.11 in c:\\users\\drudi\\anaconda3\\envs\\learn-env\\lib\\site-packages (from scikit-optimize) (0.13.2)\n",
      "Requirement already satisfied: numpy>=1.13.3 in c:\\users\\drudi\\anaconda3\\envs\\learn-env\\lib\\site-packages (from scikit-optimize) (1.19.1)\n",
      "Note: you may need to restart the kernel to use updated packages.\n"
     ]
    },
    {
     "name": "stderr",
     "output_type": "stream",
     "text": [
      "WARNING: No metadata found in c:\\users\\drudi\\anaconda3\\envs\\learn-env\\lib\\site-packages\n",
      "ERROR: Could not install packages due to an EnvironmentError: [Errno 2] No such file or directory: 'c:\\\\users\\\\drudi\\\\anaconda3\\\\envs\\\\learn-env\\\\lib\\\\site-packages\\\\numpy-1.19.1.dist-info\\\\METADATA'\n",
      "\n"
     ]
    }
   ],
   "source": [
    "pip install scikit-optimize"
   ]
  },
  {
   "cell_type": "code",
   "execution_count": null,
   "metadata": {},
   "outputs": [],
   "source": []
  }
 ],
 "metadata": {
  "kernelspec": {
   "display_name": "learn-env",
   "language": "python",
   "name": "learn-env"
  },
  "language_info": {
   "codemirror_mode": {
    "name": "ipython",
    "version": 3
   },
   "file_extension": ".py",
   "mimetype": "text/x-python",
   "name": "python",
   "nbconvert_exporter": "python",
   "pygments_lexer": "ipython3",
   "version": "3.6.9"
  },
  "toc": {
   "base_numbering": 1,
   "nav_menu": {},
   "number_sections": true,
   "sideBar": true,
   "skip_h1_title": false,
   "title_cell": "Table of Contents",
   "title_sidebar": "Contents",
   "toc_cell": false,
   "toc_position": {},
   "toc_section_display": true,
   "toc_window_display": true
  }
 },
 "nbformat": 4,
 "nbformat_minor": 2
}
